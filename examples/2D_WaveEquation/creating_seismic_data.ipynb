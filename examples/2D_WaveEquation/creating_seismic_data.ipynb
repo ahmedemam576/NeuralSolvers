{
 "cells": [
  {
   "cell_type": "code",
   "execution_count": 12,
   "metadata": {},
   "outputs": [],
   "source": [
    "# importing libraries\n",
    "import pandas as pd\n",
    "import numpy as np\n",
    "from scipy.spatial.distance import euclidean\n",
    "from scipy.spatial import distance_matrix\n",
    "import matplotlib.pyplot as plt\n",
    "import scipy.io\n",
    "\n",
    "\n",
    "pressure =np.loadtxt(\"short_data.txt\") #path in hemera *size (10,801,801)\n",
    "\n"
   ]
  },
  {
   "cell_type": "code",
   "execution_count": 24,
   "metadata": {},
   "outputs": [
    {
     "name": "stdout",
     "output_type": "stream",
     "text": [
      "x size is  801\n",
      "z size is  801\n",
      "total time steps size is  4000\n",
      "the chosen time steps are  10 time steps\n"
     ]
    }
   ],
   "source": [
    "x = np.arange(0,10.0125,0.0125) #1d x values in meter\n",
    "z = np.arange(0,10.0125,0.0125) #1d y values in meter\n",
    "t_general = np.arange(0,4000,1)\n",
    "t = [0,100,500,1000,1050,1300,1345,1900,2500,3000] #chosen time steps in ms\n",
    "t_size = pressure.shape[0] \n",
    "print(\"x size is \" ,x.size)\n",
    "print(\"z size is \" ,z.size)\n",
    "print(\"total time steps size is \" , t_general.size)\n",
    "print(\"the chosen time steps are \" , t_size, \"time steps\")"
   ]
  },
  {
   "cell_type": "code",
   "execution_count": 26,
   "metadata": {},
   "outputs": [],
   "source": [
    "\n",
    "Data= {}\n",
    "Data['x']=x\n",
    "Data['z']=z\n",
    "Data['t']=t\n",
    "Data['pressure']= pressure\n",
    " \n",
    "scipy.io.savemat('seismic_data.mat', Data)"
   ]
  }
 ],
 "metadata": {
  "kernelspec": {
   "display_name": "Python 3",
   "language": "python",
   "name": "python3"
  },
  "language_info": {
   "codemirror_mode": {
    "name": "ipython",
    "version": 3
   },
   "file_extension": ".py",
   "mimetype": "text/x-python",
   "name": "python",
   "nbconvert_exporter": "python",
   "pygments_lexer": "ipython3",
   "version": "3.6.5"
  }
 },
 "nbformat": 4,
 "nbformat_minor": 4
}
